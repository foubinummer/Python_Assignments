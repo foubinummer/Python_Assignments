{
  "nbformat": 4,
  "nbformat_minor": 0,
  "metadata": {
    "colab": {
      "provenance": []
    },
    "kernelspec": {
      "name": "python3",
      "display_name": "Python 3"
    },
    "language_info": {
      "name": "python"
    }
  },
  "cells": [
    {
      "cell_type": "code",
      "execution_count": null,
      "metadata": {
        "colab": {
          "base_uri": "https://localhost:8080/"
        },
        "id": "g0qKZ0-t3mL9",
        "outputId": "7d0a31d8-da54-4220-b749-4d1b825db8a2"
      },
      "outputs": [
        {
          "output_type": "stream",
          "name": "stdout",
          "text": [
            "Enter the name of studentRiya\n",
            "Enter marks for 5 subjects85,62,45,78,60\n",
            "Name    :  Riya\n",
            "Total   :  330\n",
            "Average :  66\n",
            "Grade : B\n"
          ]
        }
      ],
      "source": [
        "#1 Python program to findthe grade of a student\n",
        "\n",
        "name=input(\"Enter the name of student\")\n",
        "m1,m2,m3,m4,m5=map(int,input(\"Enter marks for 5 subjects\").split(\",\"))\n",
        "total=m1+m2+m3+m4+m5\n",
        "avg=int(total/5)\n",
        "print(\"Name    : \",name)\n",
        "print(\"Total   : \",total)\n",
        "print(\"Average : \",avg)\n",
        "if avg<25:\n",
        "  print(\"Failed\")\n",
        "elif avg>=25 and avg<=45:\n",
        "  print(\"Grade : E\")\n",
        "elif avg>=45 and avg<50:\n",
        "  print(\"Grade : D\")\n",
        "elif avg>=50 and avg<60:\n",
        "  print(\"Grade : C\")\n",
        "elif avg>=60 and avg<=80:\n",
        "  print(\"Grade : B\")\n",
        "else:\n",
        "  print(\"Grade : A\")"
      ]
    },
    {
      "cell_type": "code",
      "source": [
        "#2 Python program for printing string without duplicate characters\n",
        "\n",
        "n=['John','Peter','Meera','Mini','Krishna']\n",
        "new=[]\n",
        "for i in n:\n",
        "  c=0\n",
        "  for k in range(0, len(i)):\n",
        "   for j in range(k+1, len(i)):\n",
        "     if i[k]==i[j]:\n",
        "      c+=1\n",
        "  if c==0:\n",
        "    new.append(i)\n",
        "print(\"Names with non-repeating characters are:\")\n",
        "print(new)"
      ],
      "metadata": {
        "colab": {
          "base_uri": "https://localhost:8080/"
        },
        "id": "fgXgdrK86v5j",
        "outputId": "a86596eb-795f-4e34-e186-2d282a9bf231"
      },
      "execution_count": null,
      "outputs": [
        {
          "output_type": "stream",
          "name": "stdout",
          "text": [
            "Names with non-repeating characters are:\n",
            "['John', 'Krishna']\n"
          ]
        }
      ]
    },
    {
      "cell_type": "code",
      "source": [
        "#3 Python program to read sides of a rectangle and check whether it is a square or not\n",
        "\n",
        "l,b=map(int,input(\"Enter the length and breadth of a rectangle\").split(\",\"))\n",
        "if l==b:\n",
        "  print(\"This is a square\")\n",
        "else:\n",
        "  print(\"This is not a square\")"
      ],
      "metadata": {
        "colab": {
          "base_uri": "https://localhost:8080/"
        },
        "id": "6v1tvWxm4D8M",
        "outputId": "fac30ca8-707a-4340-edcf-bfc37f6f1205"
      },
      "execution_count": null,
      "outputs": [
        {
          "output_type": "stream",
          "name": "stdout",
          "text": [
            "Enter the length of rectangle3,8\n",
            "This is not a square\n"
          ]
        }
      ]
    },
    {
      "cell_type": "code",
      "source": [
        "#4 Python program to check whether a student is eligible for exam or not\n",
        "\n",
        "tclass=int(input(\"Enter total no.of classes  held\"))\n",
        "tcatnd=int(input(\"Enter total no.of classes attended\"))\n",
        "pcls=(tcatnd/tclass)*100\n",
        "print(\"Attendance Percentage :\",pcls)\n",
        "if pcls>=75:\n",
        "  print(\"Eligible for exam\")\n",
        "else:\n",
        "  print(\"Not eligible for exam\")"
      ],
      "metadata": {
        "colab": {
          "base_uri": "https://localhost:8080/"
        },
        "id": "KidMIy9LBnn7",
        "outputId": "1183a988-4c12-4dba-b886-8f77ad59be65"
      },
      "execution_count": null,
      "outputs": [
        {
          "output_type": "stream",
          "name": "stdout",
          "text": [
            "Enter total no.of classes  held80\n",
            "Enter total no.of classes attended20\n",
            "Attendance Percentage : 25.0\n",
            "Not eligible for exam\n"
          ]
        }
      ]
    },
    {
      "cell_type": "code",
      "source": [
        "#5 Python program for printing odd and even numbers in a list\n",
        "\n",
        "n=int(input(\"Enter the no.of elements in the list\"))\n",
        "lst=[]\n",
        "s=0\n",
        "for i in range(0, n):\n",
        "  r=int(input(\"Enter the number\"))\n",
        "  lst.append(r)\n",
        "  s+=lst[i]\n",
        "print(\"Created list : \",lst)\n",
        "print(\"Sum of values in the list = \",s)\n",
        "ev=[]\n",
        "od=[]\n",
        "for j in range(0, n):\n",
        " if lst[j]%2==0:\n",
        "   ev.append(lst[j])\n",
        " else:\n",
        "   od.append(lst[j])\n",
        "print(\"Even numbers list :\",ev)\n",
        "print(\"Odd numbers list :\",od)\n"
      ],
      "metadata": {
        "colab": {
          "base_uri": "https://localhost:8080/"
        },
        "id": "Z1RZb8R3nJxB",
        "outputId": "ba1e741e-5c15-4e1c-85c1-0f32f91d3283"
      },
      "execution_count": null,
      "outputs": [
        {
          "output_type": "stream",
          "name": "stdout",
          "text": [
            "Enter the no.of elements in the list5\n",
            "Enter the number4\n",
            "Enter the number3\n",
            "Enter the number2\n",
            "Enter the number7\n",
            "Enter the number6\n",
            "Created list :  [4, 3, 2, 7, 6]\n",
            "Sum of values in the list =  22\n",
            "Even numbers list : [4, 2, 6]\n",
            "Odd numbers list : [3, 7]\n"
          ]
        }
      ]
    },
    {
      "cell_type": "code",
      "source": [
        "#6 Chatbot for an e-commerce website\n",
        "\n",
        "print(\"Welcome to our store : Make yourself looking Beautiful\")\n",
        "while(True):\n",
        "  x=input(\"Hi, How can we help you? \\n Check out our latest collections in www.zamas.com\\nType exit to quit\")\n",
        "  if x=='exit':\n",
        "    print(\"Thank You For Your Visit\")\n",
        "    break\n",
        "  x=x.lower()\n",
        "  y=x.split()\n",
        "  if len(y)==0:\n",
        "    print(\"Please enter a valid input\")\n",
        "  elif 'morning' in y:\n",
        "    print(\"Good Morning..How can we help you?\")\n",
        "  elif 'afternoon' in y:\n",
        "    print(\"Good Afternoon..How can we help you?\")\n",
        "  elif 'evening' in y:\n",
        "    print(\"Good Evening..How can we help you?\")\n",
        "  elif 'salwar' in y:\n",
        "    print(\"Check out our fabulous salwar collections in the menu - Salwars & Suites\")\n",
        "  elif 'kurta' in y:\n",
        "    print(\"See the beauty in you by wearing our kurtas - Select the menu Kurtas\")\n",
        "  elif 'saree' in y:\n",
        "    print(\"Bring the beauty inside you - Checkout our latest saree collections in saree section\")\n",
        "  "
      ],
      "metadata": {
        "colab": {
          "base_uri": "https://localhost:8080/"
        },
        "id": "vcmPaBjryqQM",
        "outputId": "0fa31dba-aede-49ba-c15c-63d092f2be3e"
      },
      "execution_count": null,
      "outputs": [
        {
          "output_type": "stream",
          "name": "stdout",
          "text": [
            "Welcome to our store : Make yourself looking Beautiful\n",
            "Hi, How can we help you? \n",
            " Check out our latest collections in www.zamas.com\n",
            "Type exit to quitevening\n",
            "Good Evening..How can we help you?\n",
            "Hi, How can we help you? \n",
            " Check out our latest collections in www.zamas.com\n",
            "Type exit to quitsaree\n",
            "Bring the beauty inside you - Checkout our latest saree collections in saree section\n",
            "Hi, How can we help you? \n",
            " Check out our latest collections in www.zamas.com\n",
            "Type exit to quitkurta\n",
            "See the beauty in you by wearing our kurtas - Select the menu Kurtas\n",
            "Hi, How can we help you? \n",
            " Check out our latest collections in www.zamas.com\n",
            "Type exit to quitsalwar\n",
            "Check out our fabulous salwar collections in the menu - Salwars & Suites\n",
            "Hi, How can we help you? \n",
            " Check out our latest collections in www.zamas.com\n",
            "Type exit to quitexit\n",
            "Thank You For Your Visit\n"
          ]
        }
      ]
    },
    {
      "cell_type": "code",
      "source": [
        "#7 Python program for finding the roots of a quadratic equation\n",
        "\n",
        "import math\n",
        "a,b,c=map(int, input(\"Enter values for a,b,c\").split(','))\n",
        "dis = b * b - 4 * a * c \n",
        "sqrt_val = math.sqrt(abs(dis)) \n",
        "if dis > 0: \n",
        "        print(\" Roots are real and different\") \n",
        "        print((-b + sqrt_val)/(2 * a)) \n",
        "        print((-b - sqrt_val)/(2 * a)) \n",
        "elif dis == 0: \n",
        "        print(\" Roots are real and same\") \n",
        "        print(-b / (2 * a)) \n",
        "else:\n",
        "        print(\"Complex Roots\") \n",
        "        print(- b / (2 * a), \" + i\", sqrt_val) \n",
        "        print(- b / (2 * a), \" - i\", sqrt_val) \n"
      ],
      "metadata": {
        "id": "E565NO_I3mn6",
        "colab": {
          "base_uri": "https://localhost:8080/"
        },
        "outputId": "2c9b7548-c706-4f7b-f2a4-dad0a9f774b1"
      },
      "execution_count": null,
      "outputs": [
        {
          "output_type": "stream",
          "name": "stdout",
          "text": [
            "Enter values for a,b,c1,7,12\n",
            " Roots are real and different\n",
            "-3.0\n",
            "-4.0\n"
          ]
        }
      ]
    },
    {
      "cell_type": "code",
      "source": [
        "#8 Python program to find the sum of current and previous number in a range of first 10 numbers\n",
        "\n",
        "ls=range(10)\n",
        "s=0\n",
        "pn=0\n",
        "for i in ls:\n",
        "  s=pn+i\n",
        "  print(\"Current number :\",i)\n",
        "  print(\"Previous number : \",pn)\n",
        "  print(\"Sum : \",s)\n",
        "  pn=i"
      ],
      "metadata": {
        "colab": {
          "base_uri": "https://localhost:8080/"
        },
        "id": "ALC4IiCxG8m6",
        "outputId": "50add22c-b6a0-4937-a331-6255bc83688c"
      },
      "execution_count": null,
      "outputs": [
        {
          "output_type": "stream",
          "name": "stdout",
          "text": [
            "Current number : 0\n",
            "Previous number :  0\n",
            "Sum :  0\n",
            "Current number : 1\n",
            "Previous number :  0\n",
            "Sum :  1\n",
            "Current number : 2\n",
            "Previous number :  1\n",
            "Sum :  3\n",
            "Current number : 3\n",
            "Previous number :  2\n",
            "Sum :  5\n",
            "Current number : 4\n",
            "Previous number :  3\n",
            "Sum :  7\n",
            "Current number : 5\n",
            "Previous number :  4\n",
            "Sum :  9\n",
            "Current number : 6\n",
            "Previous number :  5\n",
            "Sum :  11\n",
            "Current number : 7\n",
            "Previous number :  6\n",
            "Sum :  13\n",
            "Current number : 8\n",
            "Previous number :  7\n",
            "Sum :  15\n",
            "Current number : 9\n",
            "Previous number :  8\n",
            "Sum :  17\n"
          ]
        }
      ]
    },
    {
      "cell_type": "code",
      "source": [
        "#9 Python programs to print prime numbers in a given range\n",
        "\n",
        "lower_range=int(input(\"Enter the starting range\"))\n",
        "upper_range=int(input(\"Enter the upper range\"))\n",
        "print(\"Prime numbers in the given range are :\")\n",
        "for num in range(lower_range, upper_range + 1):\n",
        "   if num > 1:\n",
        "      for i in range(2, num):\n",
        "         if (num % i) == 0:\n",
        "            break\n",
        "      else:\n",
        "         print(num)"
      ],
      "metadata": {
        "colab": {
          "base_uri": "https://localhost:8080/"
        },
        "id": "HDdaqtJcppqy",
        "outputId": "89541e1d-410c-4870-898c-7262d9adbd4a"
      },
      "execution_count": null,
      "outputs": [
        {
          "output_type": "stream",
          "name": "stdout",
          "text": [
            "Enter the starting range1\n",
            "Enter the upper range15\n",
            "Prime numbers in the given range are :\n",
            "2\n",
            "3\n",
            "5\n",
            "7\n",
            "11\n",
            "13\n"
          ]
        }
      ]
    },
    {
      "cell_type": "code",
      "source": [
        "#10 Python program to print fibonacci series in range\n",
        "\n",
        "def fibonacci(n):\n",
        "    if n == 1:\n",
        "        return 1\n",
        "    elif n == 0:\n",
        "        return 0 \n",
        "    else:\n",
        "        return fibonacci(n-1) + fibonacci(n-2)\n",
        "\n",
        "num=int(input(\"Enter the range to which fibonacci series to be printed\"))\n",
        "for i in range(num):\n",
        "    print(fibonacci(i))"
      ],
      "metadata": {
        "colab": {
          "base_uri": "https://localhost:8080/"
        },
        "id": "DU9ffobbtMUi",
        "outputId": "9a5de631-5cc0-4606-fea1-505fdb86634b"
      },
      "execution_count": 7,
      "outputs": [
        {
          "output_type": "stream",
          "name": "stdout",
          "text": [
            "Enter the range to which fibonacci series to be printed5\n",
            "0\n",
            "1\n",
            "1\n",
            "2\n",
            "3\n"
          ]
        }
      ]
    }
  ]
}