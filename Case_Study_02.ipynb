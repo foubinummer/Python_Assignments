{
  "nbformat": 4,
  "nbformat_minor": 0,
  "metadata": {
    "colab": {
      "provenance": []
    },
    "kernelspec": {
      "name": "python3",
      "display_name": "Python 3"
    },
    "language_info": {
      "name": "python"
    }
  },
  "cells": [
    {
      "cell_type": "code",
      "execution_count": null,
      "metadata": {
        "colab": {
          "base_uri": "https://localhost:8080/"
        },
        "id": "-jlWJPfhDRKl",
        "outputId": "bd80b2b3-4c72-423b-861e-4b889933d973"
      },
      "outputs": [
        {
          "output_type": "stream",
          "name": "stdout",
          "text": [
            "Enter the limit of the list2\n",
            "Enter the elements4 9\n",
            "Sum of all the elements of created list =  13\n"
          ]
        }
      ],
      "source": [
        "#1 Python program using function to sum all the numbers of a list\n",
        "\n",
        "\n",
        "def add(x):     #function for adding numbers of the list\n",
        "  sm=0\n",
        "  for i in x:\n",
        "    sm=sm+i\n",
        "  return(sm)\n",
        "\n",
        "n=int(input(\"Enter the limit of the list\"))\n",
        "x=map(int,input(\"Enter the elements\").split(' '))\n",
        "s=add(x)                                             #calling the function\n",
        "print(\"Sum of all the elements of created list = \",s)"
      ]
    },
    {
      "cell_type": "code",
      "source": [
        "#2 Python program using function to check whether a string is palindrome or not\n",
        "\n",
        "def palindrome(st):\n",
        "  st1=st[::---1]\n",
        "  if st1==st:\n",
        "    print(\"String \"+st+\" is palindrome\")\n",
        "  else:\n",
        "    print(\"String \"+st+\" is not palindrome\")\n",
        " \n",
        "st=input(\"Enter a string  \")\n",
        "palindrome(st)\n",
        "\n",
        "\n"
      ],
      "metadata": {
        "colab": {
          "base_uri": "https://localhost:8080/"
        },
        "id": "KfNXEDyoHGhl",
        "outputId": "6bf378e1-56e8-4366-ffee-211d8bbe0f77"
      },
      "execution_count": null,
      "outputs": [
        {
          "output_type": "stream",
          "name": "stdout",
          "text": [
            "Enter a string  opo\n",
            "String opo is palindrome\n"
          ]
        }
      ]
    },
    {
      "cell_type": "code",
      "source": [
        "#3 Python program to find fibonacci series using recursive function\n",
        "\n",
        "def fibo(x):\n",
        "  if x<=1:\n",
        "    return(x)\n",
        "  else:\n",
        "    return(fibo(x-1)+fibo(x-2))\n",
        "\n",
        "n=int(input(\"Enter the limit for fibonacci numbers to be printed \"))\n",
        "if n==0:\n",
        "  print(\"Enter a valid input\")\n",
        "else:\n",
        "  print(\"Fibonacci series is : \")\n",
        "  for i in range(n):\n",
        "    print(fibo(i))\n",
        "    "
      ],
      "metadata": {
        "colab": {
          "base_uri": "https://localhost:8080/"
        },
        "id": "VBIGtOQfbwh5",
        "outputId": "aa081b48-f5c9-4c63-c6a5-c9b326797708"
      },
      "execution_count": null,
      "outputs": [
        {
          "output_type": "stream",
          "name": "stdout",
          "text": [
            "Enter the limit for fibonacci numbers to be printed 6\n",
            "Fibonacci series is : \n",
            "0\n",
            "1\n",
            "1\n",
            "2\n",
            "3\n",
            "5\n"
          ]
        }
      ]
    },
    {
      "cell_type": "code",
      "source": [
        "#4 Python recursive function to print the multiplication table of a given number\n",
        "\n",
        "def mul(x,i):\n",
        "\n",
        "  if i<13:\n",
        "    print(i,\"*\",x ,\"=\" ,i*x)\n",
        "    mul(x,i+1)\n",
        "\n",
        "n=int(input(\"Enter the number to which multiplication table printed \"))\n",
        "mul(n,1)"
      ],
      "metadata": {
        "colab": {
          "base_uri": "https://localhost:8080/"
        },
        "id": "1BX_8VsdjRgc",
        "outputId": "b84a2f99-803f-4f64-c4e2-e961356435c5"
      },
      "execution_count": null,
      "outputs": [
        {
          "output_type": "stream",
          "name": "stdout",
          "text": [
            "Enter the number to which multiplication table printed 4\n",
            "1 * 4 = 4\n",
            "2 * 4 = 8\n",
            "3 * 4 = 12\n",
            "4 * 4 = 16\n",
            "5 * 4 = 20\n",
            "6 * 4 = 24\n",
            "7 * 4 = 28\n",
            "8 * 4 = 32\n",
            "9 * 4 = 36\n",
            "10 * 4 = 40\n",
            "11 * 4 = 44\n",
            "12 * 4 = 48\n"
          ]
        }
      ]
    },
    {
      "cell_type": "code",
      "source": [
        "#5 Python program for counting vowels and consonants using function\n",
        "\n",
        "def count_vc(str):\n",
        "  vowels=['a','e','i','o','u']\n",
        "  v=0\n",
        "  c=0\n",
        "  for i in range(0,len(str)):\n",
        "    if str[i] in vowels:\n",
        "      v+=1\n",
        "    else:\n",
        "      c+=1\n",
        "  print(\"Count of vowels in the word = \",v)\n",
        "  print(\"Count of consonants in the word = \",c)\n",
        "\n",
        "st=input(\"Enter a word  \")\n",
        "count_vc(st)"
      ],
      "metadata": {
        "colab": {
          "base_uri": "https://localhost:8080/"
        },
        "id": "QSfm390RgwT2",
        "outputId": "484b7ed0-4911-4b58-a9d7-43ce31037b55"
      },
      "execution_count": null,
      "outputs": [
        {
          "output_type": "stream",
          "name": "stdout",
          "text": [
            "Enter a word  fousiya\n",
            "Count of vowels in the word =  4\n",
            "Count of consonants in the word =  3\n"
          ]
        }
      ]
    },
    {
      "cell_type": "code",
      "source": [
        "#6 Python program to define a function that accepts lowercase words and returns uppercase \n",
        "\n",
        "def upcase(str):\n",
        "  return(str.upper())\n",
        "\n",
        "st1=input(\"Enter a words in lower case \")\n",
        "st2=upcase(st1)\n",
        "print(\"Entered words in upper case : \",st2)\n",
        "\n"
      ],
      "metadata": {
        "colab": {
          "base_uri": "https://localhost:8080/"
        },
        "id": "v5JQRFmDlo5P",
        "outputId": "0d25675f-f77f-4205-c0c5-88df00e84320"
      },
      "execution_count": null,
      "outputs": [
        {
          "output_type": "stream",
          "name": "stdout",
          "text": [
            "Enter a words in lower case welcome to the world of python\n",
            "Entered words in upper case :  WELCOME TO THE WORLD OF PYTHON\n"
          ]
        }
      ]
    },
    {
      "cell_type": "code",
      "source": [
        "#7 Python program to remove ‘None’ values from a given list using lambda function\n",
        "\n",
        "def rmv_nl(ls):\n",
        "  lst1 = filter(lambda n: n is not None,ls) \n",
        "  return list(lst1)\n",
        "\n",
        "lst=[12, 0, None, 23, None, -55, 234, 89, None, 0, 6, -12]\n",
        "print(\"Original List : \",lst)\n",
        "print(\"The list after removing null values : \",rmv_nl(lst))\n"
      ],
      "metadata": {
        "colab": {
          "base_uri": "https://localhost:8080/"
        },
        "id": "4z2IAyobm03-",
        "outputId": "92813323-cdf8-4505-dbef-94b945e333a7"
      },
      "execution_count": null,
      "outputs": [
        {
          "output_type": "stream",
          "name": "stdout",
          "text": [
            "Original List :  [12, 0, None, 23, None, -55, 234, 89, None, 0, 6, -12]\n",
            "The list after removing null values :  [12, 0, 23, -55, 234, 89, 0, 6, -12]\n"
          ]
        }
      ]
    },
    {
      "cell_type": "code",
      "source": [
        "#8 Python program to create a class Rectangle and define attributes and methods\n",
        "\n",
        "class Rectangle():\n",
        "  def __init__(self,length,breadth):\n",
        "    self.length=length\n",
        "    self.breadth=breadth\n",
        "    self.A=0\n",
        "    self.P=0\n",
        "  def area(self):\n",
        "    self.A=self.length*self.breadth\n",
        "  \n",
        "  def perimeter(self):\n",
        "    self.P=2*(self.length+self.breadth)\n",
        "\n",
        "  def display(self):\n",
        "    print(\"Length of the rectangle = \",self.length) \n",
        "    print(\"Breadth of the traiangle = \",self.breadth)\n",
        "    print(\"Area = \",self.A)\n",
        "    print(\"Perimeter = \",self.P)\n",
        "\n",
        "class Parallelepiped(Rectangle):\n",
        "  def __init__(self,height,length,breadth):\n",
        "    super().__init__(length,breadth)\n",
        "    self.V=0\n",
        "    self.height=height\n",
        "   \n",
        "\n",
        "  def volume(self):\n",
        "    self.V=self.length*self.breadth*self.height\n",
        "    print(\"Height of parallelopiped = \",self.height)\n",
        "    print(\"Volume of parallelopiped = \",self.V)\n",
        "\n",
        "l,b=map(int,input(\"Enter the length and breadth of rectangle\").split(' '))\n",
        "r=Rectangle(l,b)\n",
        "r.area()\n",
        "r.perimeter()\n",
        "r.display()\n",
        "h=int(input(\"Enter the height of parallelopiped \"))\n",
        "s=Parallelepiped(h,l,b)\n",
        "s.volume()"
      ],
      "metadata": {
        "id": "bIRPD9fcpUzQ",
        "colab": {
          "base_uri": "https://localhost:8080/"
        },
        "outputId": "b6e4016d-4f7a-4978-ce1b-a5231ed6124f"
      },
      "execution_count": null,
      "outputs": [
        {
          "output_type": "stream",
          "name": "stdout",
          "text": [
            "Enter the length and breadth of rectangle2 5\n",
            "Length of the rectangle =  2\n",
            "Breadth of the traiangle =  5\n",
            "Area =  10\n",
            "Perimeter =  14\n",
            "Enter the height of parallelopiped 3\n",
            "Height of parallelopiped =  3\n",
            "Volume of parallelopiped =  30\n"
          ]
        }
      ]
    },
    {
      "cell_type": "code",
      "source": [
        "#9 Python program to create a class BankAccount and define some methods\n",
        "\n",
        "class BankAccount():\n",
        "  def __init__(self,accno,name,bal):\n",
        "    self.accno=accno\n",
        "    self.name=name\n",
        "    self.bal=bal\n",
        "\n",
        "  def deposit(self):\n",
        "    BankAccount.x=int(input(\"Enter the amount to deposit\"))\n",
        "    self.bal+=BankAccount.x\n",
        "  def withdraw(self):\n",
        "    BankAccount.y=int(input(\"Enter the amount to be withdrawn\"))\n",
        "    self.bal-=BankAccount.y\n",
        "  def bankfee(self):\n",
        "    BankAccount.bf=(self.bal*5)/100\n",
        "    print(\"Bank Fee : \",BankAccount.bf)\n",
        "  def display(self):\n",
        "    print(\"Account Number : \",self.accno)\n",
        "    print(\"Account Name : \",self.name)\n",
        "    print(\"Account Balance : \",self.bal)\n",
        "\n",
        "b=BankAccount(101,'Sona',500)\n",
        "while True:\n",
        "  print(\"***********************************Main Menu***************************************\\n\\n\")\n",
        "  print(\" 1. Deposit\\n 2. Withdrawl \\n 3. Bank Fee to be Paid \\n 4. Display Account Details\")\n",
        "  a=int(input(\"Enter your choice \"))\n",
        "  if a==1:\n",
        "    b.deposit()\n",
        "    b.display()\n",
        "  elif a==2:\n",
        "    b.withdraw()\n",
        "    b.display()\n",
        "  elif a==3:\n",
        "    b.display()\n",
        "    b.bankfee()\n",
        "  elif a==4:\n",
        "    b.display()\n",
        "  else:\n",
        "    print(\"Invalid Choice\")\n",
        "  ch=input(\"Do you want to continue?  Yes : Y , No : N\")\n",
        "  if ch=='N' or ch=='n':\n",
        "    break\n",
        "\n"
      ],
      "metadata": {
        "id": "HFZk6bMBH3-Y",
        "colab": {
          "base_uri": "https://localhost:8080/"
        },
        "outputId": "68e530b3-7fc4-4ea3-83b6-30b90b72d0e3"
      },
      "execution_count": null,
      "outputs": [
        {
          "name": "stdout",
          "output_type": "stream",
          "text": [
            "***********************************Main Menu***************************************\n",
            "\n",
            "\n",
            " 1. Deposit\n",
            " 2. Withdrawl \n",
            " 3. Bank Fee to be Paid \n",
            " 4. Display Account Details\n",
            "Enter your choice 1\n",
            "Enter the amount to deposit50\n",
            "Account Number :  101\n",
            "Account Name :  Sona\n",
            "Account Balance :  550\n",
            "Do you want to continue?  Yes : Y , No : Ny\n",
            "***********************************Main Menu***************************************\n",
            "\n",
            "\n",
            " 1. Deposit\n",
            " 2. Withdrawl \n",
            " 3. Bank Fee to be Paid \n",
            " 4. Display Account Details\n",
            "Enter your choice 2\n",
            "Enter the amount to be withdrawn20\n",
            "Account Number :  101\n",
            "Account Name :  Sona\n",
            "Account Balance :  530\n",
            "Do you want to continue?  Yes : Y , No : Ny\n",
            "***********************************Main Menu***************************************\n",
            "\n",
            "\n",
            " 1. Deposit\n",
            " 2. Withdrawl \n",
            " 3. Bank Fee to be Paid \n",
            " 4. Display Account Details\n",
            "Enter your choice 3\n",
            "Account Number :  101\n",
            "Account Name :  Sona\n",
            "Account Balance :  530\n",
            "Bank Fee :  26.5\n",
            "Do you want to continue?  Yes : Y , No : NY\n",
            "***********************************Main Menu***************************************\n",
            "\n",
            "\n",
            " 1. Deposit\n",
            " 2. Withdrawl \n",
            " 3. Bank Fee to be Paid \n",
            " 4. Display Account Details\n",
            "Enter your choice 4\n",
            "Account Number :  101\n",
            "Account Name :  Sona\n",
            "Account Balance :  530\n",
            "Do you want to continue?  Yes : Y , No : NN\n"
          ]
        }
      ]
    }
  ]
}