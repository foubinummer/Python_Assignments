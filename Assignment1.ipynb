{
  "nbformat": 4,
  "nbformat_minor": 0,
  "metadata": {
    "colab": {
      "provenance": [],
      "toc_visible": true
    },
    "kernelspec": {
      "name": "python3",
      "display_name": "Python 3"
    },
    "language_info": {
      "name": "python"
    }
  },
  "cells": [
    {
      "cell_type": "code",
      "execution_count": null,
      "metadata": {
        "colab": {
          "base_uri": "https://localhost:8080/"
        },
        "id": "7loxJBvFtXi_",
        "outputId": "74fcaff7-f555-410a-a851-be7ffcf83218"
      },
      "outputs": [
        {
          "output_type": "stream",
          "name": "stdout",
          "text": [
            "Enter the name of studentFousiya\n",
            "Enter the roll number12\n",
            "Enter the mark90\n",
            "Name of student : Fousiya\n",
            "Roll No : 12\n",
            "Mark : 90\n"
          ]
        }
      ],
      "source": [
        "#1 Python program to enter and display student details\n",
        "name=input(\"Enter the name of student\")\n",
        "rno=int(input(\"Enter the roll number\"))\n",
        "mark=int(input(\"Enter the mark\"))\n",
        "print(\"Name of student :\",name)\n",
        "print(\"Roll No :\",rno)\n",
        "print(\"Mark :\",mark)"
      ]
    },
    {
      "cell_type": "code",
      "source": [
        "#2 Python program to convert tempearture to and from celsius to farenheit\n",
        "cl=int(input(\"Enter the temperature in celsius\"))\n",
        "f=cl*(9/5)+32\n",
        "print(\"Temperature in farenheit =\",f)\n",
        "ft=int(input(\"Enter the temperature in farenheit\"))\n",
        "c=(ft-32)*5/9\n",
        "print(\"Temperature in celsius =\",c)\n"
      ],
      "metadata": {
        "colab": {
          "base_uri": "https://localhost:8080/"
        },
        "id": "sjgrvhegv9a1",
        "outputId": "8698d03d-3107-406d-9d64-06c3c4e92579"
      },
      "execution_count": null,
      "outputs": [
        {
          "output_type": "stream",
          "name": "stdout",
          "text": [
            "Enter the temperature in celsius8\n",
            "Temperature in farenheit = 46.4\n",
            "Enter the temperature in farenheit46\n",
            "Temperature in celsius = 7.777777777777778\n"
          ]
        }
      ]
    },
    {
      "cell_type": "code",
      "source": [
        "#3 Python program to accept two numbers and display their products\n",
        "a=int(input(\"Enter the first number\"))\n",
        "b=int(input(\"Enter the second number\"))\n",
        "c=a*b\n",
        "print(\"Product Value of two numbers =\",c)"
      ],
      "metadata": {
        "colab": {
          "base_uri": "https://localhost:8080/"
        },
        "id": "Aq_2t4IqyvyX",
        "outputId": "076290f0-d888-4181-8910-f53db033f062"
      },
      "execution_count": null,
      "outputs": [
        {
          "output_type": "stream",
          "name": "stdout",
          "text": [
            "Enter the first number5\n",
            "Enter the second number2\n",
            "Product Value of two numbers = 10\n"
          ]
        }
      ]
    },
    {
      "cell_type": "code",
      "source": [
        "#4 Python program to accept and display the string\n",
        "\n",
        "st=\"Learn Python by developing a website\"\n",
        "index = st.find('Python')\n",
        "index1 = st.find('by')\n",
        "index2=st.find('a')\n",
        "index3=st.find('website')\n",
        "stng = st[:index] + '**'+st[index:index1]+'**'+st[index1:index3] +'**'+st[index3:]+'**'\n",
        "print(stng)\n"
      ],
      "metadata": {
        "id": "5oTHVJb7zUoo",
        "colab": {
          "base_uri": "https://localhost:8080/"
        },
        "outputId": "ec34630f-eddc-4b90-892e-81c4cd151b04"
      },
      "execution_count": 5,
      "outputs": [
        {
          "output_type": "stream",
          "name": "stdout",
          "text": [
            "Learn **Python **by developing a **website**\n"
          ]
        }
      ]
    },
    {
      "cell_type": "code",
      "source": [
        "#5 Python program to accept the radius and display its area\n",
        "r=int(input(\"Enter the radius of the circle\"))\n",
        "Area=3.14*r*r\n",
        "print(\"Area of circle =\",Area)"
      ],
      "metadata": {
        "colab": {
          "base_uri": "https://localhost:8080/"
        },
        "id": "NpHI218a1jKg",
        "outputId": "f935f8dc-c061-4899-981f-aabf0eb3e29a"
      },
      "execution_count": null,
      "outputs": [
        {
          "output_type": "stream",
          "name": "stdout",
          "text": [
            "Enter the radius of the circle3\n",
            "Area of circle = 28.259999999999998\n"
          ]
        }
      ]
    },
    {
      "cell_type": "code",
      "source": [
        "#6 Python program to insert a number to any position in a list \n",
        "names=['arjun','John','Simi','Liya']\n",
        "st=input(\"Enter the name to be inserted\")\n",
        "p=int(input(\"Enter the position to which new name to be inserted\"))\n",
        "names.insert(p,st)\n",
        "print(\"List after insertion\")\n",
        "print(names)"
      ],
      "metadata": {
        "id": "ZeC-nHr1M1YV",
        "colab": {
          "base_uri": "https://localhost:8080/"
        },
        "outputId": "ae5786a8-1e72-4081-a1b5-fb5d9e78ce3b"
      },
      "execution_count": null,
      "outputs": [
        {
          "output_type": "stream",
          "name": "stdout",
          "text": [
            "Enter the name to be insertedSona\n",
            "Enter the position to which new name to be inserted2\n",
            "List after insertion\n",
            "['arjun', 'John', 'Sona', 'Simi', 'Liya']\n"
          ]
        }
      ]
    },
    {
      "cell_type": "code",
      "source": [
        "#7 Python program to rename a key city to location in a dictionary.\n",
        "sample_dict = { \"name\": \"John\", \"age\":5, \"salary\": 8000, \"city\": \"New York\"}\n",
        "sample_dict['location']=sample_dict['city']\n",
        "del sample_dict['city']\n",
        "print(\"After changing the key city to location\")\n",
        "sample_dict\n"
      ],
      "metadata": {
        "id": "T7-tbg0A5dOF",
        "colab": {
          "base_uri": "https://localhost:8080/"
        },
        "outputId": "c29a698c-33dd-40f7-f309-3d3c7132a2c1"
      },
      "execution_count": null,
      "outputs": [
        {
          "output_type": "stream",
          "name": "stdout",
          "text": [
            "After changing the key city to location\n"
          ]
        },
        {
          "output_type": "execute_result",
          "data": {
            "text/plain": [
              "{'name': 'John', 'age': 5, 'salary': 8000, 'location': 'New York'}"
            ]
          },
          "metadata": {},
          "execution_count": 2
        }
      ]
    },
    {
      "cell_type": "code",
      "source": [
        "#8 Python program to change the value of a dictionary\n",
        "sample_dict = {\n",
        "'emp1': {'name': 'John', 'salary': 7500},\n",
        "'emp2': {'name': 'Emma', 'salary': 8000},\n",
        "'emp3': {'name': 'Brad', 'salary': 500}\n",
        "}\n",
        "sample_dict['emp3']['salary']=8600\n",
        "print(\"After changing the salary of Brad to 8600\")\n",
        "sample_dict\n",
        "\n"
      ],
      "metadata": {
        "id": "LqAvk-EOHc3q",
        "colab": {
          "base_uri": "https://localhost:8080/"
        },
        "outputId": "71a743ed-b8fc-4f2b-f5ea-702672563307"
      },
      "execution_count": null,
      "outputs": [
        {
          "output_type": "stream",
          "name": "stdout",
          "text": [
            "After changing the salary of Brad to 8600\n"
          ]
        },
        {
          "output_type": "execute_result",
          "data": {
            "text/plain": [
              "{'emp1': {'name': 'John', 'salary': 7500},\n",
              " 'emp2': {'name': 'Emma', 'salary': 8000},\n",
              " 'emp3': {'name': 'Brad', 'salary': 8600}}"
            ]
          },
          "metadata": {},
          "execution_count": 1
        }
      ]
    },
    {
      "cell_type": "code",
      "source": [
        "#9 Python program to copy elements from a tuple and create a new tuple\n",
        "tuple1 = (10, 20, 43, 54, 56, 68)\n",
        "tuple2=(tuple1[2], tuple1[3])\n",
        "print(\"After copying to a new tuple :\")\n",
        "tuple2\n"
      ],
      "metadata": {
        "colab": {
          "base_uri": "https://localhost:8080/"
        },
        "id": "CNKvVc8MYF2w",
        "outputId": "f69c93c5-797d-4173-e7f1-0fa556281dd5"
      },
      "execution_count": null,
      "outputs": [
        {
          "output_type": "stream",
          "name": "stdout",
          "text": [
            "After copying to a new tuple :\n"
          ]
        },
        {
          "output_type": "execute_result",
          "data": {
            "text/plain": [
              "(43, 54)"
            ]
          },
          "metadata": {},
          "execution_count": 3
        }
      ]
    },
    {
      "cell_type": "code",
      "source": [
        "#10 Python program to count the occurance of a number in a tuple\n",
        "tuple1 = (50, 10, 60, 70, 50,83,567,50,81)\n",
        "print(\"Occurance of number 50:\")\n",
        "tuple1.count(50)\n"
      ],
      "metadata": {
        "colab": {
          "base_uri": "https://localhost:8080/"
        },
        "id": "jDR79EBJ43g2",
        "outputId": "67b90389-786b-4ed4-bd15-e19565280f23"
      },
      "execution_count": 6,
      "outputs": [
        {
          "output_type": "stream",
          "name": "stdout",
          "text": [
            "Occurance of number 50:\n"
          ]
        },
        {
          "output_type": "execute_result",
          "data": {
            "text/plain": [
              "3"
            ]
          },
          "metadata": {},
          "execution_count": 6
        }
      ]
    }
  ]
}